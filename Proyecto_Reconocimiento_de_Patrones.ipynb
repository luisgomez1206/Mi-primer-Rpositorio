{
  "nbformat": 4,
  "nbformat_minor": 0,
  "metadata": {
    "colab": {
      "name": "Proyecto_Reconocimiento_de_Patrones.ipynb",
      "provenance": [],
      "collapsed_sections": [
        "Sy7EYvjmZH1l"
      ],
      "include_colab_link": true
    },
    "kernelspec": {
      "name": "python3",
      "display_name": "Python 3"
    },
    "language_info": {
      "name": "python"
    }
  },
  "cells": [
    {
      "cell_type": "markdown",
      "metadata": {
        "id": "view-in-github",
        "colab_type": "text"
      },
      "source": [
        "<a href=\"https://colab.research.google.com/github/luisgomez1206/Mi-primer-Rpositorio/blob/main/Proyecto_Reconocimiento_de_Patrones.ipynb\" target=\"_parent\"><img src=\"https://colab.research.google.com/assets/colab-badge.svg\" alt=\"Open In Colab\"/></a>"
      ]
    },
    {
      "cell_type": "code",
      "metadata": {
        "id": "ZqG2DPN0YW1y"
      },
      "source": [
        "import numpy as np\n",
        "import pandas as pd\n",
        "import os\n",
        "import glob\n",
        "import random\n",
        "import tensorflow as tf\n",
        "from sklearn.neighbors import KNeighborsClassifier\n",
        "from sklearn.neural_network import MLPClassifier\n",
        "from tensorflow import keras\n",
        "from keras.layers import Dense, Activation, Dropout, Flatten, Conv2D, MaxPooling2D, AveragePooling2D, Dropout, Softmax, ReLU \n",
        "from skimage import data, color\n",
        "from skimage.transform import rescale, resize, downscale_local_mean\n",
        "from PIL import Image\n",
        "from google.colab import drive\n",
        "from matplotlib import pyplot as plt\n",
        "drive.mount('/content/drive')\n",
        "path_data='/content/drive/MyDrive/proyecto_rec_patrones/dataset-master/dataset-master/JPEGImages/'\n",
        "path_labels=\"/content/drive/MyDrive/proyecto_rec_patrones/dataset-master/dataset-master/labels.csv\"\n",
        "path_data2='/content/drive/MyDrive/proyecto_rec_patrones/dataset2-master/dataset2-master'"
      ],
      "execution_count": null,
      "outputs": []
    },
    {
      "cell_type": "markdown",
      "metadata": {
        "id": "b4b13me2ZHxS"
      },
      "source": [
        "# Pre Procesamiento"
      ]
    },
    {
      "cell_type": "markdown",
      "metadata": {
        "id": "wifbOCiJc2d9"
      },
      "source": [
        "## Metodos utiles varios\n",
        "\n",
        "\n"
      ]
    },
    {
      "cell_type": "code",
      "metadata": {
        "id": "jbTHRUo2c5yE"
      },
      "source": [
        "def preprocess(path,small=True):\n",
        "  #Dado el path de una imagen, hace la conversion a un array de 32x32\n",
        "  im=Image.open(path)\n",
        "  arr=np.array(im)\n",
        "  if small==True:\n",
        "    im_final= im.crop((40, 0,280, 240))\n",
        "    np_crop=np.array(im_final)\n",
        "    image_resized3 =resize(np_crop, (32, 32),anti_aliasing=False)\n",
        "  else:\n",
        "    im_final= im.crop((80, 0,560, 480))\n",
        "    np_crop=np.array(im_final)\n",
        "    image_resized3 =resize(np_crop, (32, 32),anti_aliasing=False)\n",
        "  return [image_resized3,arr]\n",
        "\n",
        "\n",
        "def show_img(some_array):\n",
        "  plt.imshow(some_array)\n",
        "  return"
      ],
      "execution_count": null,
      "outputs": []
    },
    {
      "cell_type": "markdown",
      "metadata": {
        "id": "xGywLMYsZHzP"
      },
      "source": [
        "## Carga de datos"
      ]
    },
    {
      "cell_type": "code",
      "metadata": {
        "id": "_DO_4qPuZPxV"
      },
      "source": [
        "file1=\"_0_5020.jpeg\"\n",
        "image= Image.open(path_data2+\"/images/TEST_SIMPLE/MONOCYTE/\"+file1)\n"
      ],
      "execution_count": null,
      "outputs": []
    },
    {
      "cell_type": "code",
      "metadata": {
        "colab": {
          "base_uri": "https://localhost:8080/"
        },
        "id": "rc25zot1jdX1",
        "outputId": "576efa98-3951-4b0f-baa0-737b89315264"
      },
      "source": [
        "np_test=np.array(image)\n",
        "np_test.shape"
      ],
      "execution_count": null,
      "outputs": [
        {
          "output_type": "execute_result",
          "data": {
            "text/plain": [
              "(240, 320, 3)"
            ]
          },
          "metadata": {
            "tags": []
          },
          "execution_count": 4
        }
      ]
    },
    {
      "cell_type": "markdown",
      "metadata": {
        "id": "Sy7EYvjmZH1l"
      },
      "source": [
        "## Reduccion de tmno"
      ]
    },
    {
      "cell_type": "markdown",
      "metadata": {
        "id": "oUv2GH7Md0E1"
      },
      "source": [
        "### Intento 1"
      ]
    },
    {
      "cell_type": "code",
      "metadata": {
        "id": "IbYOmEQFqY-g",
        "outputId": "a6c7e611-9ae7-4e85-d078-a80e31df5fd5",
        "colab": {
          "base_uri": "https://localhost:8080/",
          "height": 162
        }
      },
      "source": [
        "image=np_test"
      ],
      "execution_count": null,
      "outputs": [
        {
          "output_type": "error",
          "ename": "NameError",
          "evalue": "ignored",
          "traceback": [
            "\u001b[0;31m---------------------------------------------------------------------------\u001b[0m",
            "\u001b[0;31mNameError\u001b[0m                                 Traceback (most recent call last)",
            "\u001b[0;32m<ipython-input-1-0495488f419a>\u001b[0m in \u001b[0;36m<module>\u001b[0;34m()\u001b[0m\n\u001b[0;32m----> 1\u001b[0;31m \u001b[0mimage\u001b[0m\u001b[0;34m=\u001b[0m\u001b[0mnp_test\u001b[0m\u001b[0;34m\u001b[0m\u001b[0;34m\u001b[0m\u001b[0m\n\u001b[0m",
            "\u001b[0;31mNameError\u001b[0m: name 'np_test' is not defined"
          ]
        }
      ]
    },
    {
      "cell_type": "code",
      "metadata": {
        "id": "hs2SBjWEZQsJ"
      },
      "source": [
        "image_resized = resize(image, (32, 32),anti_aliasing=True)\n",
        "\n",
        "image_resized.shape\n"
      ],
      "execution_count": null,
      "outputs": []
    },
    {
      "cell_type": "code",
      "metadata": {
        "id": "rnyNHHEpwQDz"
      },
      "source": [
        "zz=Image.fromarray(image_resized,'RGB')"
      ],
      "execution_count": null,
      "outputs": []
    },
    {
      "cell_type": "code",
      "metadata": {
        "id": "AX2ufWJgwm8f"
      },
      "source": [
        "plt.imshow(image_resized)"
      ],
      "execution_count": null,
      "outputs": []
    },
    {
      "cell_type": "markdown",
      "metadata": {
        "id": "RPF7Gyqod1wS"
      },
      "source": [
        "### Intento 2"
      ]
    },
    {
      "cell_type": "code",
      "metadata": {
        "id": "pxmR9qWud12J"
      },
      "source": [
        "im=Image.open(path_data2+\"/images/TEST_SIMPLE/MONOCYTE/\"+file1)\n",
        "im_final= im.crop((40, 0,280, 240))\n",
        "np_crop=np.array(im_final)"
      ],
      "execution_count": null,
      "outputs": []
    },
    {
      "cell_type": "code",
      "metadata": {
        "id": "iec_AOeXLFn6"
      },
      "source": [
        "im.size"
      ],
      "execution_count": null,
      "outputs": []
    },
    {
      "cell_type": "code",
      "metadata": {
        "id": "zRmT2eN8FtIs"
      },
      "source": [
        "im_final"
      ],
      "execution_count": null,
      "outputs": []
    },
    {
      "cell_type": "code",
      "metadata": {
        "id": "pa3UJ0UQGjG2"
      },
      "source": [
        "image_resized2 = resize(np_crop, (32, 32),anti_aliasing=True)\n",
        "image_resized3 =resize(np_crop, (32, 32),anti_aliasing=False)\n",
        "image_resized2.shape"
      ],
      "execution_count": null,
      "outputs": []
    },
    {
      "cell_type": "code",
      "metadata": {
        "id": "JOnqaCg_G8H9"
      },
      "source": [
        "plt.imshow(image_resized2)"
      ],
      "execution_count": null,
      "outputs": []
    },
    {
      "cell_type": "code",
      "metadata": {
        "id": "NsTsFscIHLC8"
      },
      "source": [
        "plt.imshow(image_resized3)"
      ],
      "execution_count": null,
      "outputs": []
    },
    {
      "cell_type": "markdown",
      "metadata": {
        "id": "gV9A-Ho6rqK8"
      },
      "source": [
        "Se utilizara entonces la imagen sin antialiasing para la reduccion debido a que se ven mejor los contrastes y esto puede ayudar a la deteccion de patrones.\n",
        "\n",
        "La imagen tendra entonces un formato de (32,32,3) siendo 32 pixeles de alto y ancho y 3 canales para los colores RGB."
      ]
    },
    {
      "cell_type": "markdown",
      "metadata": {
        "id": "xjfb5x2XZIHx"
      },
      "source": [
        "## Definicion de sets para red"
      ]
    },
    {
      "cell_type": "markdown",
      "metadata": {
        "id": "8uaiLbQioakQ"
      },
      "source": [
        "## One hot encoding"
      ]
    },
    {
      "cell_type": "code",
      "metadata": {
        "id": "k9Uf92CWocSD"
      },
      "source": [
        "onehot={\n",
        "    'NEUTROPHIL':np.array([1,0,0,0]),\n",
        "    'MONOCYTE' : np.array([0,1,0,0]),\n",
        "    'LYMPHOCYTE':np.array([0,0,1,0]),\n",
        "    'EOSINOPHIL':np.array([0,0,0,1])\n",
        "    }"
      ],
      "execution_count": null,
      "outputs": []
    },
    {
      "cell_type": "code",
      "metadata": {
        "id": "FUWgm6ieyDw2"
      },
      "source": [
        "labels_dataframe=pd.read_csv(path_labels)\n",
        "labels=labels_dataframe['Category']"
      ],
      "execution_count": null,
      "outputs": []
    },
    {
      "cell_type": "markdown",
      "metadata": {
        "id": "JunIebZUe5Ou"
      },
      "source": [
        "### Set simple inicial\n",
        "\n",
        "toma pocos segundos son 71 muestras"
      ]
    },
    {
      "cell_type": "code",
      "metadata": {
        "colab": {
          "base_uri": "https://localhost:8080/"
        },
        "id": "C7TZJmgjLH0W",
        "outputId": "17c7db5e-5455-44f8-fc35-790f4aa8e4de"
      },
      "source": [
        "Folder_list=[x[0] for x in os.walk(path_data2+\"/images/TEST_SIMPLE/\")]\n",
        "Folder_list=Folder_list[1:]\n",
        "set_simple=[]\n",
        "set_simple_or=[]\n",
        "labels_simple=[]\n",
        "for folder in Folder_list:\n",
        "  for filename in glob.glob(os.path.join(folder, '*.jpeg')):\n",
        "    pre=preprocess(filename)\n",
        "    set_simple.append(pre[0])\n",
        "    set_simple_or.append(pre[1])\n",
        "    if (\"NEUTROPHIL\") in folder:\n",
        "      labels_simple.append(onehot[\"NEUTROPHIL\"])\n",
        "    elif (\"MONOCYTE\") in folder:\n",
        "      labels_simple.append(onehot[\"MONOCYTE\"])\n",
        "    elif (\"LYMPHOCYTE\") in folder:\n",
        "      labels_simple.append(onehot[\"LYMPHOCYTE\"])\n",
        "    else:\n",
        "      labels_simple.append(onehot[\"EOSINOPHIL\"])\n",
        "\n",
        "set_simple=np.array(set_simple)\n",
        "set_simple_or=np.array(set_simple_or)\n",
        "labels_simple=np.array(labels_simple)\n",
        "print(set_simple_or.shape)\n",
        "print(set_simple.shape)\n",
        "print(labels_simple.shape)"
      ],
      "execution_count": null,
      "outputs": [
        {
          "output_type": "stream",
          "text": [
            "(71, 240, 320, 3)\n",
            "(71, 32, 32, 3)\n",
            "(71, 4)\n"
          ],
          "name": "stdout"
        }
      ]
    },
    {
      "cell_type": "markdown",
      "metadata": {
        "id": "K6NNlYhce9xB"
      },
      "source": [
        "### Set train\n",
        "son 10000 imagenes"
      ]
    },
    {
      "cell_type": "code",
      "metadata": {
        "colab": {
          "base_uri": "https://localhost:8080/"
        },
        "id": "-QiJwzIGZ4Z5",
        "outputId": "ebe4209d-b0aa-4e6f-d960-820e3af591cb"
      },
      "source": [
        "Folder_list=[x[0] for x in os.walk(path_data2+\"/images/TRAIN/\")]\n",
        "Folder_list=Folder_list[1:]\n",
        "set_train=[]\n",
        "set_train_or=[]\n",
        "labels_train=[]\n",
        "for folder in Folder_list:\n",
        "  for filename in glob.glob(os.path.join(folder, '*.jpeg')):\n",
        "    pre=preprocess(filename)\n",
        "    set_train.append(pre[0])\n",
        "    set_train_or.append(pre[1])\n",
        "    if (\"NEUTROPHIL\") in folder:\n",
        "      labels_train.append(onehot[\"NEUTROPHIL\"])\n",
        "    elif (\"MONOCYTE\") in folder:\n",
        "      labels_train.append(onehot[\"MONOCYTE\"])\n",
        "    elif (\"LYMPHOCYTE\") in folder:\n",
        "      labels_train.append(onehot[\"LYMPHOCYTE\"])\n",
        "    else:\n",
        "      labels_train.append(onehot[\"EOSINOPHIL\"])\n",
        "\n",
        "set_train=np.array(set_train)\n",
        "set_train_or=np.array(set_train_or)\n",
        "labels_train=np.array(labels_train)\n",
        "print(set_train.shape)\n",
        "print(labels_train.shape)"
      ],
      "execution_count": null,
      "outputs": [
        {
          "output_type": "stream",
          "text": [
            "(9957, 32, 32, 3)\n",
            "(9957, 4)\n"
          ],
          "name": "stdout"
        }
      ]
    },
    {
      "cell_type": "markdown",
      "metadata": {
        "id": "LRSJD0Rificg"
      },
      "source": [
        "### Set test\n",
        "\n",
        "2500"
      ]
    },
    {
      "cell_type": "code",
      "metadata": {
        "colab": {
          "base_uri": "https://localhost:8080/"
        },
        "id": "uMMkC-3FfX0t",
        "outputId": "cab3057d-b2e1-4df1-fe80-e0d2562b7027"
      },
      "source": [
        "Folder_list=[x[0] for x in os.walk(path_data2+\"/images/TEST/\")]\n",
        "Folder_list=Folder_list[1:]\n",
        "set_test=[]\n",
        "set_test_or=[]\n",
        "labels_test=[]\n",
        "for folder in Folder_list:\n",
        "  for filename in glob.glob(os.path.join(folder, '*.jpeg')):\n",
        "    pre=preprocess(filename)\n",
        "    set_test.append(pre[0])\n",
        "    set_test_or.append(pre[1])\n",
        "    if (\"NEUTROPHIL\") in folder:\n",
        "      labels_test.append(onehot[\"NEUTROPHIL\"])\n",
        "    elif (\"MONOCYTE\") in folder:\n",
        "      labels_test.append(onehot[\"MONOCYTE\"])\n",
        "    elif (\"LYMPHOCYTE\") in folder:\n",
        "      labels_test.append(onehot[\"LYMPHOCYTE\"])\n",
        "    else:\n",
        "      labels_test.append(onehot[\"EOSINOPHIL\"])\n",
        "\n",
        "set_test=np.array(set_test)\n",
        "set_test_or=np.array(set_test_or)\n",
        "labels_test=np.array(labels_test)\n",
        "print(set_test.shape)\n",
        "print(labels_test.shape)"
      ],
      "execution_count": null,
      "outputs": [
        {
          "output_type": "stream",
          "text": [
            "(2487, 32, 32, 3)\n",
            "(2487, 4)\n"
          ],
          "name": "stdout"
        }
      ]
    },
    {
      "cell_type": "markdown",
      "metadata": {
        "id": "8AF2esGhvbjN"
      },
      "source": [
        "### Full set\n",
        "\n",
        "350, estas miden 480x640.\n",
        "\n",
        "Estas son las imagenes originales sin cortar ni editar. En este set existen mas de 4 tipos de celulas blancas pero, solamente utilizaremos aquellos con label que entren en los 4 grupos que estamos estudiando"
      ]
    },
    {
      "cell_type": "code",
      "metadata": {
        "colab": {
          "base_uri": "https://localhost:8080/"
        },
        "id": "x0S8p41ava7k",
        "outputId": "26d4bc87-775b-47d1-fa9e-f05a9624f239"
      },
      "source": [
        "set_full=[]\n",
        "set_full_or=[]\n",
        "labels_full=[]\n",
        "for filename in glob.glob(os.path.join(path_data, '*.jpg')):\n",
        "  label_n=filename[-7:-4]\n",
        "  if (labels[int(label_n)]) in onehot:\n",
        "    pre=preprocess(filename,False)\n",
        "    set_full.append(pre[0])\n",
        "    set_full_or.append(pre[1])\n",
        "    labels_full.append(onehot[labels[int(label_n)]])\n",
        "  \n",
        "set_full=np.array(set_full)\n",
        "set_full_or=np.array(set_full_or)\n",
        "labels_full=np.array(labels_full)\n",
        "print(set_full_or.shape)\n",
        "print(set_full.shape)\n",
        "print(labels_full.shape)"
      ],
      "execution_count": null,
      "outputs": [
        {
          "output_type": "stream",
          "text": [
            "(347, 480, 640, 3)\n",
            "(347, 32, 32, 3)\n",
            "(347, 4)\n"
          ],
          "name": "stdout"
        }
      ]
    },
    {
      "cell_type": "markdown",
      "metadata": {
        "id": "ms9-TrJ2H9Ha"
      },
      "source": [
        "## Sets finales\n",
        "\n",
        "definimos tambien un set con dimensiones (Samples,Data) para que puedan ser aceptados por las redes de sklearn."
      ]
    },
    {
      "cell_type": "code",
      "metadata": {
        "id": "ne12y4wvH8fn"
      },
      "source": [
        "Y1=tf.convert_to_tensor(labels_simple)\n",
        "X1=tf.convert_to_tensor(set_simple)\n",
        "X1_or=tf.convert_to_tensor(set_simple_or)\n",
        "X1_mlp=tf.reshape(X1,(71,32*32*3))\n",
        "X1_or_mlp=tf.reshape(X1_or,(71,240*320*3))\n"
      ],
      "execution_count": null,
      "outputs": []
    },
    {
      "cell_type": "code",
      "metadata": {
        "id": "BympmKw7u9C1"
      },
      "source": [
        "Y2=tf.convert_to_tensor(labels_test)\n",
        "X2_or=tf.convert_to_tensor(set_test_or)\n",
        "X2=tf.convert_to_tensor(set_test)\n",
        "\n",
        "X2_mlp=tf.reshape(X2,(2487,32*32*3))\n",
        "X2_or_mlp=tf.reshape(X2_or,(2487,240*320*3))\n"
      ],
      "execution_count": null,
      "outputs": []
    },
    {
      "cell_type": "code",
      "metadata": {
        "id": "szboYDASu9FB"
      },
      "source": [
        "X3_or=tf.convert_to_tensor(set_train_or)\n",
        "X3=tf.convert_to_tensor(set_train)\n",
        "Y3=tf.convert_to_tensor(labels_train)\n",
        "\n",
        "X3_mlp=tf.reshape(X3,(9957,32*32*3))\n",
        "X3_or_mlp=tf.reshape(X3_or,(9957,240*320*3))\n"
      ],
      "execution_count": null,
      "outputs": []
    },
    {
      "cell_type": "code",
      "metadata": {
        "id": "dfqsBnx_w22Y"
      },
      "source": [
        "X4_or=tf.convert_to_tensor(set_full_or)\n",
        "X4=tf.convert_to_tensor(set_full)\n",
        "Y4=tf.convert_to_tensor(labels_full)\n",
        "\n",
        "X4_mlp=tf.reshape(X4,(347,32*32*3))\n",
        "X4_or_mlp=tf.reshape(X4_or,(347,480*640*3))\n"
      ],
      "execution_count": null,
      "outputs": []
    },
    {
      "cell_type": "code",
      "metadata": {
        "colab": {
          "base_uri": "https://localhost:8080/"
        },
        "id": "C6b_ZHsM4huE",
        "outputId": "a5c5be3e-04bc-4726-8d24-514680cc67e4"
      },
      "source": [
        "print(X1.shape)\n",
        "print(Y1.shape)"
      ],
      "execution_count": null,
      "outputs": [
        {
          "output_type": "stream",
          "text": [
            "(71, 32, 32, 3)\n",
            "(71, 4)\n"
          ],
          "name": "stdout"
        }
      ]
    },
    {
      "cell_type": "markdown",
      "metadata": {
        "id": "ERwWJ00Z5Cux"
      },
      "source": [
        "Los sets X1 X2 y X3 no estan revueltos por lo que para utilizar apropiadamente, se deben revolver para seleccionar un subconjunto, por otro lado X4 si esta revuelto"
      ]
    },
    {
      "cell_type": "markdown",
      "metadata": {
        "id": "1C1SaKE-ZRhK"
      },
      "source": [
        "# Implementacion de red\n",
        "\n",
        "image_set: lista de imagenes extraidas de test_simple, las cuales ya estan transformadas en 32x32\n",
        "\n",
        "labels: lista de labels en formato 'str' de todas las imagenes contenidos en 'image_set'\n",
        "\n",
        "No redujeron las imagenes del test fuera de foco o con angulos desviados debido a que la reduccion a 32x32 reduce mucho la calidad de la imagen y se intentara primero con casos mas faciles"
      ]
    },
    {
      "cell_type": "markdown",
      "metadata": {
        "id": "QOz2AeCpZa1k"
      },
      "source": [
        "## AlexNetPaper"
      ]
    },
    {
      "cell_type": "markdown",
      "metadata": {
        "id": "uhuVrCk_Dc-p"
      },
      "source": [
        "![image.png](data:image/png;base64,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)"
      ]
    },
    {
      "cell_type": "markdown",
      "metadata": {
        "id": "ODsIqJ-dsl1o"
      },
      "source": [
        "En la red el layer previamente descrita modificamos el layer 8 debidoa que si tiene 2 kernels, no acepta nuestro input de 4 categorias.\n",
        "\n",
        "Otro detalle es que el layer 7 y 8, el dropout se implemento como un layer extra"
      ]
    },
    {
      "cell_type": "code",
      "metadata": {
        "id": "6ZXOoszMZigI"
      },
      "source": [
        "# Functional API\n",
        "input = keras.Input(shape=(32, 32, 3))\n",
        "x = keras.layers.Conv2D(32, (5, 5),strides=1)(input)\n",
        "x = keras.layers.MaxPooling2D((3, 3),strides=2)(x)\n",
        "x = keras.layers.ReLU()(x)\n",
        "x = keras.layers.Conv2D(32, (5, 5),strides=1, activation='relu',padding=\"same\")(x)\n",
        "x = keras.layers.AveragePooling2D((3, 3),strides=2)(x)\n",
        "x = keras.layers.Conv2D(64, (5, 5),strides=1, activation='relu')(x)\n",
        "x = keras.layers.AveragePooling2D((3, 3),strides=2,padding=\"same\")(x)\n",
        "#convierte el output en una lista tipo (n,1)\n",
        "x = keras.layers.Flatten()(x)\n",
        "x = keras.layers.Dense(64, activation='relu')(x)\n",
        "x = keras.layers.Dropout(0.5)(x)\n",
        "#la siguiente linea fue alterada dado la estructura de los labels.\n",
        "x = keras.layers.Dense(4, activation='relu')(x)\n",
        "x = keras.layers.Dropout(0.5)(x)\n",
        "x = keras.layers.Softmax()(x)\n",
        "model_paper = keras.Model(inputs=input, outputs=x)\n",
        "model_paper.compile(optimizer='adam', loss='categorical_crossentropy', metrics='accuracy')"
      ],
      "execution_count": null,
      "outputs": []
    },
    {
      "cell_type": "markdown",
      "metadata": {
        "id": "EfAuZk4pZbIk"
      },
      "source": [
        "## AlexNet Modificada"
      ]
    },
    {
      "cell_type": "code",
      "metadata": {
        "id": "-uiwSAbTZi2o"
      },
      "source": [
        "# Functional API\n",
        "input = keras.Input(shape=(240, 320, 3))\n",
        "x = keras.layers.Conv2D(32, (5, 5),strides=1)(input)\n",
        "x = keras.layers.MaxPooling2D((3, 3),strides=2)(x)\n",
        "x = keras.layers.ReLU()(x)\n",
        "x = keras.layers.Conv2D(32, (5, 5),strides=1, activation='relu',padding=\"same\")(x)\n",
        "x = keras.layers.AveragePooling2D((3, 3),strides=2)(x)\n",
        "x = keras.layers.Conv2D(64, (5, 5),strides=1, activation='relu')(x)\n",
        "x = keras.layers.AveragePooling2D((3, 3),strides=2,padding=\"same\")(x)\n",
        "#convierte el output en una lista tipo (n,1)\n",
        "x = keras.layers.Flatten()(x)\n",
        "x = keras.layers.Dense(64, activation='relu')(x)\n",
        "#aqui se puede afinar el valor del dropout\n",
        "x = keras.layers.Dropout(0.5)(x)\n",
        "x = keras.layers.Dense(4, activation='relu')(x)\n",
        "#aqui se puede afinar el valor del dropout\n",
        "x = keras.layers.Dropout(0.5)(x)\n",
        "x = keras.layers.Softmax()(x)\n",
        "model_paper2 = keras.Model(inputs=input, outputs=x)\n",
        "\n",
        "#aqui se pueden afinar variables esta todo default\n",
        "model_paper2.compile(optimizer='adam', loss='categorical_crossentropy', metrics='accuracy')"
      ],
      "execution_count": null,
      "outputs": []
    },
    {
      "cell_type": "markdown",
      "metadata": {
        "id": "yLIN-uSM0OAf"
      },
      "source": [
        "## Alexnet para imagenes full"
      ]
    },
    {
      "cell_type": "code",
      "metadata": {
        "id": "hmRpu3z30OIa"
      },
      "source": [
        "# Functional API\n",
        "input = keras.Input(shape=(480, 640, 3))\n",
        "x = keras.layers.Conv2D(32*3, (5, 5),strides=1)(input)\n",
        "x = keras.layers.MaxPooling2D((3, 3),strides=2)(x)\n",
        "x = keras.layers.ReLU()(x)\n",
        "x = keras.layers.Conv2D(32*3, (5, 5),strides=1, activation='relu',padding=\"same\")(x)\n",
        "x = keras.layers.AveragePooling2D((3, 3),strides=2)(x)\n",
        "x = keras.layers.Conv2D(64*1, (5, 5),strides=1, activation='relu')(x)\n",
        "x = keras.layers.AveragePooling2D((3, 3),strides=2,padding=\"same\")(x)\n",
        "#convierte el output en una lista tipo (n,1)\n",
        "x = keras.layers.Flatten()(x)\n",
        "x = keras.layers.Dense(64*1, activation='relu')(x)\n",
        "#aqui se puede afinar el valor del dropout\n",
        "x = keras.layers.Dropout(0.5)(x)\n",
        "x = keras.layers.Dense(4, activation='relu')(x)\n",
        "#aqui se puede afinar el valor del dropout\n",
        "x = keras.layers.Dropout(0.5)(x)\n",
        "x = keras.layers.Softmax()(x)\n",
        "model_mod = keras.Model(inputs=input, outputs=x)\n",
        "\n",
        "#aqui se pueden afinar variables esta todo default\n",
        "model_mod.compile(optimizer='adam', loss='categorical_crossentropy', metrics='accuracy')"
      ],
      "execution_count": null,
      "outputs": []
    },
    {
      "cell_type": "markdown",
      "metadata": {
        "id": "5qYQ-MFr2RDA"
      },
      "source": [
        "## red KNN\n"
      ]
    },
    {
      "cell_type": "code",
      "metadata": {
        "id": "V7hLo0rN2Vml"
      },
      "source": [
        "knn = KNeighborsClassifier(n_neighbors=4)\n",
        "knn_small = KNeighborsClassifier(n_neighbors=4)\n"
      ],
      "execution_count": null,
      "outputs": []
    },
    {
      "cell_type": "markdown",
      "metadata": {
        "id": "gNQYvqn02Vfz"
      },
      "source": [
        "## red MLP"
      ]
    },
    {
      "cell_type": "code",
      "metadata": {
        "id": "u6SgG24q2RHk"
      },
      "source": [
        "mlp = MLPClassifier(random_state=1, learning_rate_init=0.005)\n",
        "mlp_small = MLPClassifier(random_state=1, learning_rate_init=0.005)\n"
      ],
      "execution_count": null,
      "outputs": []
    },
    {
      "cell_type": "markdown",
      "metadata": {
        "id": "_vSAeZtJZmwM"
      },
      "source": [
        "# Entrenamiento y resultados  "
      ]
    },
    {
      "cell_type": "markdown",
      "metadata": {
        "id": "sxwVfECGaSth"
      },
      "source": [
        "## AlexNetPaper"
      ]
    },
    {
      "cell_type": "code",
      "metadata": {
        "colab": {
          "base_uri": "https://localhost:8080/"
        },
        "id": "ZmRZsD8F9bJv",
        "outputId": "37c2a0b1-9160-458c-f43d-3ffd6053a749"
      },
      "source": [
        "print(X3.shape)\n",
        "print(Y3.shape)\n",
        "model_paper.fit(X4, Y4, validation_split=0.33, epochs=5)"
      ],
      "execution_count": null,
      "outputs": [
        {
          "output_type": "stream",
          "text": [
            "(9957, 32, 32, 3)\n",
            "(9957, 4)\n",
            "Epoch 1/5\n",
            "8/8 [==============================] - 2s 90ms/step - loss: 1.3535 - accuracy: 0.4397 - val_loss: 1.1140 - val_accuracy: 0.7391\n",
            "Epoch 2/5\n",
            "8/8 [==============================] - 1s 66ms/step - loss: 1.3052 - accuracy: 0.4440 - val_loss: 1.1985 - val_accuracy: 0.7391\n",
            "Epoch 3/5\n",
            "8/8 [==============================] - 1s 66ms/step - loss: 1.2872 - accuracy: 0.4828 - val_loss: 1.1407 - val_accuracy: 0.7391\n",
            "Epoch 4/5\n",
            "8/8 [==============================] - 0s 63ms/step - loss: 1.3142 - accuracy: 0.4483 - val_loss: 1.2099 - val_accuracy: 0.7391\n",
            "Epoch 5/5\n",
            "8/8 [==============================] - 1s 64ms/step - loss: 1.3118 - accuracy: 0.4353 - val_loss: 1.1779 - val_accuracy: 0.7391\n"
          ],
          "name": "stdout"
        },
        {
          "output_type": "execute_result",
          "data": {
            "text/plain": [
              "<tensorflow.python.keras.callbacks.History at 0x7ff4cce76750>"
            ]
          },
          "metadata": {
            "tags": []
          },
          "execution_count": 32
        }
      ]
    },
    {
      "cell_type": "code",
      "metadata": {
        "id": "W1gaB4KBkWp2",
        "colab": {
          "base_uri": "https://localhost:8080/"
        },
        "outputId": "6684f7bf-7d49-49ef-eaae-d1898e7527e9"
      },
      "source": [
        "metrics_paper=model_paper.evaluate(X4,Y4)"
      ],
      "execution_count": null,
      "outputs": [
        {
          "output_type": "stream",
          "text": [
            "11/11 [==============================] - 0s 15ms/step - loss: 1.2294 - accuracy: 0.5937\n"
          ],
          "name": "stdout"
        }
      ]
    },
    {
      "cell_type": "markdown",
      "metadata": {
        "id": "mNtCvV-yaSvg"
      },
      "source": [
        "## AlexNet Modificada"
      ]
    },
    {
      "cell_type": "code",
      "metadata": {
        "id": "Xp0K0iyLafbH",
        "colab": {
          "base_uri": "https://localhost:8080/"
        },
        "outputId": "a1d8b791-c3b5-4cc7-890f-868a37359b44"
      },
      "source": [
        "model_mod.fit(X4_or[0:30], Y4[0:30], validation_split=0.33, epochs=5)"
      ],
      "execution_count": null,
      "outputs": [
        {
          "output_type": "stream",
          "text": [
            "Epoch 1/5\n",
            "1/1 [==============================] - 19s 19s/step - loss: 55.7360 - accuracy: 0.4000 - val_loss: 2856.8672 - val_accuracy: 0.1000\n",
            "Epoch 2/5\n",
            "1/1 [==============================] - 17s 17s/step - loss: 1620.6443 - accuracy: 0.4000 - val_loss: 1.3863 - val_accuracy: 0.4000\n",
            "Epoch 3/5\n",
            "1/1 [==============================] - 17s 17s/step - loss: 287.2747 - accuracy: 0.5000 - val_loss: 1.3863 - val_accuracy: 0.4000\n",
            "Epoch 4/5\n",
            "1/1 [==============================] - 17s 17s/step - loss: 91.6072 - accuracy: 0.3500 - val_loss: 1.3863 - val_accuracy: 0.4000\n",
            "Epoch 5/5\n",
            "1/1 [==============================] - 17s 17s/step - loss: 187.2043 - accuracy: 0.3000 - val_loss: 211.9211 - val_accuracy: 0.1000\n"
          ],
          "name": "stdout"
        },
        {
          "output_type": "execute_result",
          "data": {
            "text/plain": [
              "<tensorflow.python.keras.callbacks.History at 0x7ff4c5f13c10>"
            ]
          },
          "metadata": {
            "tags": []
          },
          "execution_count": 34
        }
      ]
    },
    {
      "cell_type": "code",
      "metadata": {
        "colab": {
          "base_uri": "https://localhost:8080/"
        },
        "id": "phbZoNy3SUiZ",
        "outputId": "d4e7ece7-49dd-4490-a78f-c4e739d0a5fd"
      },
      "source": [
        "metrics_mod=model_mod.evaluate(X4_or[30:60],Y4[30:60])\n",
        "print(metrics_mod)"
      ],
      "execution_count": null,
      "outputs": [
        {
          "output_type": "stream",
          "text": [
            "1/1 [==============================] - 5s 5s/step - loss: 157.6215 - accuracy: 0.3333\n",
            "[157.6215362548828, 0.3333333432674408]\n"
          ],
          "name": "stdout"
        }
      ]
    },
    {
      "cell_type": "markdown",
      "metadata": {
        "id": "WdGHI0Sb2lbG"
      },
      "source": [
        "## KNN"
      ]
    },
    {
      "cell_type": "code",
      "metadata": {
        "colab": {
          "base_uri": "https://localhost:8080/"
        },
        "id": "aSVVj2AKRNur",
        "outputId": "30762ef5-d655-429b-ad8e-08cf8262ba6b"
      },
      "source": [
        "print(X3_or_mlp.shape)\n",
        "print(X4_or_mlp.shape)"
      ],
      "execution_count": null,
      "outputs": [
        {
          "output_type": "stream",
          "text": [
            "(9957, 230400)\n",
            "(347, 921600)\n"
          ],
          "name": "stdout"
        }
      ]
    },
    {
      "cell_type": "code",
      "metadata": {
        "colab": {
          "base_uri": "https://localhost:8080/"
        },
        "id": "wPC8BCzeXD10",
        "outputId": "32a28fb7-6e62-42e3-b26f-131e4a69000b"
      },
      "source": [
        "# Generate 100 unique random numbers within a range\n",
        "num_list = random.sample(range(0, 9900), 5000)\n",
        "tempArr=[]\n",
        "tempLab=[]\n",
        "for i in num_list:\n",
        "  tempArr.append(X3_mlp[i])\n",
        "  tempLab.append(Y3[i])\n",
        "knn_small.fit(tempArr, tempLab)"
      ],
      "execution_count": null,
      "outputs": [
        {
          "output_type": "execute_result",
          "data": {
            "text/plain": [
              "KNeighborsClassifier(algorithm='auto', leaf_size=30, metric='minkowski',\n",
              "                     metric_params=None, n_jobs=None, n_neighbors=4, p=2,\n",
              "                     weights='uniform')"
            ]
          },
          "metadata": {
            "tags": []
          },
          "execution_count": 37
        }
      ]
    },
    {
      "cell_type": "code",
      "metadata": {
        "colab": {
          "base_uri": "https://localhost:8080/"
        },
        "id": "3p_tHl0HXD4W",
        "outputId": "15983c75-daf8-473e-91b2-ed9315755f9b"
      },
      "source": [
        "metrics_knn2=knn_small.score(X2_mlp,Y2)\n",
        "print(metrics_knn2)"
      ],
      "execution_count": null,
      "outputs": [
        {
          "output_type": "stream",
          "text": [
            "0.05950944913550463\n"
          ],
          "name": "stdout"
        }
      ]
    },
    {
      "cell_type": "code",
      "metadata": {
        "colab": {
          "base_uri": "https://localhost:8080/"
        },
        "id": "j6OOwaC-2lfy",
        "outputId": "c2a27c6b-b34f-4afa-8c95-8b19888bd6d7"
      },
      "source": [
        "# Generate 100 unique random numbers within a range\n",
        "num_list = random.sample(range(0, 9900), 300)\n",
        "tempArr=[]\n",
        "tempLab=[]\n",
        "for i in num_list:\n",
        "  tempArr.append(X3_or_mlp[i])\n",
        "  tempLab.append(Y3[i])\n",
        "knn.fit(tempArr, tempLab)"
      ],
      "execution_count": null,
      "outputs": [
        {
          "output_type": "execute_result",
          "data": {
            "text/plain": [
              "KNeighborsClassifier(algorithm='auto', leaf_size=30, metric='minkowski',\n",
              "                     metric_params=None, n_jobs=None, n_neighbors=4, p=2,\n",
              "                     weights='uniform')"
            ]
          },
          "metadata": {
            "tags": []
          },
          "execution_count": 39
        }
      ]
    },
    {
      "cell_type": "code",
      "metadata": {
        "id": "1CVQZ4D-JpHP",
        "colab": {
          "base_uri": "https://localhost:8080/"
        },
        "outputId": "5f1a2c98-a887-4fde-d4c0-d45459e359eb"
      },
      "source": [
        "metrics_knn1=knn.score(X2_or_mlp,Y2)\n",
        "print(metrics_knn1)"
      ],
      "execution_count": null,
      "outputs": [
        {
          "output_type": "stream",
          "text": [
            "0.05548854041013269\n"
          ],
          "name": "stdout"
        }
      ]
    },
    {
      "cell_type": "markdown",
      "metadata": {
        "id": "rVUyTwR32lkR"
      },
      "source": [
        "## MLP"
      ]
    },
    {
      "cell_type": "code",
      "metadata": {
        "colab": {
          "base_uri": "https://localhost:8080/"
        },
        "id": "uAVqyH7KWyog",
        "outputId": "6c2aa3a0-3a48-4a7f-face-a0486ad98788"
      },
      "source": [
        "# Generate 100 unique random numbers within a range\n",
        "num_list = random.sample(range(0, 9900), 5000)\n",
        "tempArr=[]\n",
        "tempLab=[]\n",
        "for i in num_list:\n",
        "  tempArr.append(X3_mlp[i])\n",
        "  tempLab.append(Y3[i])\n",
        "mlp_small.fit(tempArr, tempLab)"
      ],
      "execution_count": null,
      "outputs": [
        {
          "output_type": "execute_result",
          "data": {
            "text/plain": [
              "MLPClassifier(activation='relu', alpha=0.0001, batch_size='auto', beta_1=0.9,\n",
              "              beta_2=0.999, early_stopping=False, epsilon=1e-08,\n",
              "              hidden_layer_sizes=(100,), learning_rate='constant',\n",
              "              learning_rate_init=0.005, max_fun=15000, max_iter=200,\n",
              "              momentum=0.9, n_iter_no_change=10, nesterovs_momentum=True,\n",
              "              power_t=0.5, random_state=1, shuffle=True, solver='adam',\n",
              "              tol=0.0001, validation_fraction=0.1, verbose=False,\n",
              "              warm_start=False)"
            ]
          },
          "metadata": {
            "tags": []
          },
          "execution_count": 41
        }
      ]
    },
    {
      "cell_type": "code",
      "metadata": {
        "colab": {
          "base_uri": "https://localhost:8080/"
        },
        "id": "xNGiVLVpWyqa",
        "outputId": "e9e13847-f15b-4d83-acc7-bc64ce826915"
      },
      "source": [
        "metrics_mlp2=mlp_small.score(X2_mlp,Y2)\n",
        "print(metrics_mlp2)"
      ],
      "execution_count": null,
      "outputs": [
        {
          "output_type": "stream",
          "text": [
            "0.10534780860474467\n"
          ],
          "name": "stdout"
        }
      ]
    },
    {
      "cell_type": "code",
      "metadata": {
        "colab": {
          "base_uri": "https://localhost:8080/"
        },
        "id": "f_pcWXfx2lpf",
        "outputId": "7e1d8c41-58da-4577-e2ff-35bc920aad62"
      },
      "source": [
        "# Generate 100 unique random numbers within a range\n",
        "num_list = random.sample(range(0, 9900), 300)\n",
        "tempArr=[]\n",
        "tempLab=[]\n",
        "for i in num_list:\n",
        "  tempArr.append(X3_or_mlp[i])\n",
        "  tempLab.append(Y3[i])\n",
        "mlp.fit(tempArr, tempLab)"
      ],
      "execution_count": null,
      "outputs": [
        {
          "output_type": "stream",
          "text": [
            "/usr/local/lib/python3.7/dist-packages/sklearn/neural_network/_multilayer_perceptron.py:571: ConvergenceWarning: Stochastic Optimizer: Maximum iterations (200) reached and the optimization hasn't converged yet.\n",
            "  % self.max_iter, ConvergenceWarning)\n"
          ],
          "name": "stderr"
        },
        {
          "output_type": "execute_result",
          "data": {
            "text/plain": [
              "MLPClassifier(activation='relu', alpha=0.0001, batch_size='auto', beta_1=0.9,\n",
              "              beta_2=0.999, early_stopping=False, epsilon=1e-08,\n",
              "              hidden_layer_sizes=(100,), learning_rate='constant',\n",
              "              learning_rate_init=0.005, max_fun=15000, max_iter=200,\n",
              "              momentum=0.9, n_iter_no_change=10, nesterovs_momentum=True,\n",
              "              power_t=0.5, random_state=1, shuffle=True, solver='adam',\n",
              "              tol=0.0001, validation_fraction=0.1, verbose=False,\n",
              "              warm_start=False)"
            ]
          },
          "metadata": {
            "tags": []
          },
          "execution_count": 43
        }
      ]
    },
    {
      "cell_type": "code",
      "metadata": {
        "colab": {
          "base_uri": "https://localhost:8080/"
        },
        "id": "1bwq4KUSJ01t",
        "outputId": "0d0c4bc3-d3f5-419c-e5ce-ba8a66f1a158"
      },
      "source": [
        "metrics_mlp1=mlp.score(X2_or_mlp,Y2)\n",
        "print(metrics_mlp1)"
      ],
      "execution_count": null,
      "outputs": [
        {
          "output_type": "stream",
          "text": [
            "0.0\n"
          ],
          "name": "stdout"
        }
      ]
    },
    {
      "cell_type": "markdown",
      "metadata": {
        "id": "CtsZWLWq4Oae"
      },
      "source": [
        "# Conclusion"
      ]
    },
    {
      "cell_type": "code",
      "metadata": {
        "colab": {
          "base_uri": "https://localhost:8080/"
        },
        "id": "tVzQXGaP4Prs",
        "outputId": "67fb8737-2586-45aa-91fa-575018211431"
      },
      "source": [
        "print('Score paper: '+str(metrics_paper))\n",
        "print('Score mod: '+str(metrics_mod))\n",
        "print('Score knn32: ' +str(metrics_knn2))\n",
        "print('Score mlp32: '+str(metrics_mlp2))\n",
        "print('Score knn: ' +str(metrics_knn1))\n",
        "print('Score mlp: '+str(metrics_mlp1))"
      ],
      "execution_count": null,
      "outputs": [
        {
          "output_type": "stream",
          "text": [
            "Score paper: [1.229358196258545, 0.5936599373817444]\n",
            "Score mod: [157.6215362548828, 0.3333333432674408]\n",
            "Score knn32: 0.05950944913550463\n",
            "Score mlp32: 0.10534780860474467\n",
            "Score knn: 0.05548854041013269\n",
            "Score mlp: 0.0\n"
          ],
          "name": "stdout"
        }
      ]
    }
  ]
}